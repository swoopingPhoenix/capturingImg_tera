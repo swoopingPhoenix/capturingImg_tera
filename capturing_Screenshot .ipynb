{
  "nbformat": 4,
  "nbformat_minor": 0,
  "metadata": {
    "colab": {
      "provenance": [],
      "gpuType": "T4"
    },
    "kernelspec": {
      "name": "python3",
      "display_name": "Python 3"
    },
    "language_info": {
      "name": "python"
    },
    "accelerator": "GPU"
  },
  "cells": [
    {
      "cell_type": "code",
      "source": [
        "!apt-get update\n",
        "!apt-get install -y xvfb\n",
        "# !nvidia-smi"
      ],
      "metadata": {
        "id": "Xyh6i_80ekua",
        "colab": {
          "base_uri": "https://localhost:8080/"
        },
        "outputId": "8ef29333-9303-4519-9833-d609198caa63"
      },
      "execution_count": 1,
      "outputs": [
        {
          "output_type": "stream",
          "name": "stdout",
          "text": [
            "\r0% [Working]\r            \rGet:1 https://cloud.r-project.org/bin/linux/ubuntu jammy-cran40/ InRelease [3,626 B]\n",
            "\r0% [Connecting to archive.ubuntu.com (185.125.190.39)] [Waiting for headers] [1 InRelease 0 B/3,626 \r0% [Connecting to archive.ubuntu.com (185.125.190.39)] [Waiting for headers] [Connecting to ppa.laun\r                                                                                                    \rGet:2 https://developer.download.nvidia.com/compute/cuda/repos/ubuntu2204/x86_64  InRelease [1,581 B]\n",
            "Get:3 http://security.ubuntu.com/ubuntu jammy-security InRelease [110 kB]\n",
            "Hit:4 http://archive.ubuntu.com/ubuntu jammy InRelease\n",
            "Get:5 https://developer.download.nvidia.com/compute/cuda/repos/ubuntu2204/x86_64  Packages [713 kB]\n",
            "Get:6 http://archive.ubuntu.com/ubuntu jammy-updates InRelease [119 kB]\n",
            "Hit:7 https://ppa.launchpadcontent.net/c2d4u.team/c2d4u4.0+/ubuntu jammy InRelease\n",
            "Get:8 http://security.ubuntu.com/ubuntu jammy-security/universe amd64 Packages [1,072 kB]\n",
            "Get:9 https://ppa.launchpadcontent.net/deadsnakes/ppa/ubuntu jammy InRelease [18.1 kB]\n",
            "Get:10 http://security.ubuntu.com/ubuntu jammy-security/restricted amd64 Packages [1,864 kB]\n",
            "Hit:11 http://archive.ubuntu.com/ubuntu jammy-backports InRelease\n",
            "Hit:12 https://ppa.launchpadcontent.net/graphics-drivers/ppa/ubuntu jammy InRelease\n",
            "Get:13 http://security.ubuntu.com/ubuntu jammy-security/main amd64 Packages [1,504 kB]\n",
            "Get:14 http://archive.ubuntu.com/ubuntu jammy-updates/main amd64 Packages [1,786 kB]\n",
            "Hit:15 https://ppa.launchpadcontent.net/ubuntugis/ppa/ubuntu jammy InRelease\n",
            "Get:16 https://ppa.launchpadcontent.net/deadsnakes/ppa/ubuntu jammy/main amd64 Packages [27.7 kB]\n",
            "Get:17 http://archive.ubuntu.com/ubuntu jammy-updates/restricted amd64 Packages [1,908 kB]\n",
            "Get:18 http://archive.ubuntu.com/ubuntu jammy-updates/universe amd64 Packages [1,344 kB]\n",
            "Fetched 10.5 MB in 2s (5,031 kB/s)\n",
            "Reading package lists... Done\n",
            "Reading package lists... Done\n",
            "Building dependency tree... Done\n",
            "Reading state information... Done\n",
            "The following additional packages will be installed:\n",
            "  libfontenc1 libxfont2 libxkbfile1 x11-xkb-utils xfonts-base xfonts-encodings xfonts-utils\n",
            "  xserver-common\n",
            "The following NEW packages will be installed:\n",
            "  libfontenc1 libxfont2 libxkbfile1 x11-xkb-utils xfonts-base xfonts-encodings xfonts-utils\n",
            "  xserver-common xvfb\n",
            "0 upgraded, 9 newly installed, 0 to remove and 44 not upgraded.\n",
            "Need to get 7,814 kB of archives.\n",
            "After this operation, 11.9 MB of additional disk space will be used.\n",
            "Get:1 http://archive.ubuntu.com/ubuntu jammy/main amd64 libfontenc1 amd64 1:1.1.4-1build3 [14.7 kB]\n",
            "Get:2 http://archive.ubuntu.com/ubuntu jammy/main amd64 libxfont2 amd64 1:2.0.5-1build1 [94.5 kB]\n",
            "Get:3 http://archive.ubuntu.com/ubuntu jammy/main amd64 libxkbfile1 amd64 1:1.1.0-1build3 [71.8 kB]\n",
            "Get:4 http://archive.ubuntu.com/ubuntu jammy/main amd64 x11-xkb-utils amd64 7.7+5build4 [172 kB]\n",
            "Get:5 http://archive.ubuntu.com/ubuntu jammy/main amd64 xfonts-encodings all 1:1.0.5-0ubuntu2 [578 kB]\n",
            "Get:6 http://archive.ubuntu.com/ubuntu jammy/main amd64 xfonts-utils amd64 1:7.7+6build2 [94.6 kB]\n",
            "Get:7 http://archive.ubuntu.com/ubuntu jammy/main amd64 xfonts-base all 1:1.0.5 [5,896 kB]\n",
            "Get:8 http://archive.ubuntu.com/ubuntu jammy-updates/main amd64 xserver-common all 2:21.1.4-2ubuntu1.7~22.04.8 [28.6 kB]\n",
            "Get:9 http://archive.ubuntu.com/ubuntu jammy-updates/universe amd64 xvfb amd64 2:21.1.4-2ubuntu1.7~22.04.8 [863 kB]\n",
            "Fetched 7,814 kB in 1s (9,053 kB/s)\n",
            "Selecting previously unselected package libfontenc1:amd64.\n",
            "(Reading database ... 121749 files and directories currently installed.)\n",
            "Preparing to unpack .../0-libfontenc1_1%3a1.1.4-1build3_amd64.deb ...\n",
            "Unpacking libfontenc1:amd64 (1:1.1.4-1build3) ...\n",
            "Selecting previously unselected package libxfont2:amd64.\n",
            "Preparing to unpack .../1-libxfont2_1%3a2.0.5-1build1_amd64.deb ...\n",
            "Unpacking libxfont2:amd64 (1:2.0.5-1build1) ...\n",
            "Selecting previously unselected package libxkbfile1:amd64.\n",
            "Preparing to unpack .../2-libxkbfile1_1%3a1.1.0-1build3_amd64.deb ...\n",
            "Unpacking libxkbfile1:amd64 (1:1.1.0-1build3) ...\n",
            "Selecting previously unselected package x11-xkb-utils.\n",
            "Preparing to unpack .../3-x11-xkb-utils_7.7+5build4_amd64.deb ...\n",
            "Unpacking x11-xkb-utils (7.7+5build4) ...\n",
            "Selecting previously unselected package xfonts-encodings.\n",
            "Preparing to unpack .../4-xfonts-encodings_1%3a1.0.5-0ubuntu2_all.deb ...\n",
            "Unpacking xfonts-encodings (1:1.0.5-0ubuntu2) ...\n",
            "Selecting previously unselected package xfonts-utils.\n",
            "Preparing to unpack .../5-xfonts-utils_1%3a7.7+6build2_amd64.deb ...\n",
            "Unpacking xfonts-utils (1:7.7+6build2) ...\n",
            "Selecting previously unselected package xfonts-base.\n",
            "Preparing to unpack .../6-xfonts-base_1%3a1.0.5_all.deb ...\n",
            "Unpacking xfonts-base (1:1.0.5) ...\n",
            "Selecting previously unselected package xserver-common.\n",
            "Preparing to unpack .../7-xserver-common_2%3a21.1.4-2ubuntu1.7~22.04.8_all.deb ...\n",
            "Unpacking xserver-common (2:21.1.4-2ubuntu1.7~22.04.8) ...\n",
            "Selecting previously unselected package xvfb.\n",
            "Preparing to unpack .../8-xvfb_2%3a21.1.4-2ubuntu1.7~22.04.8_amd64.deb ...\n",
            "Unpacking xvfb (2:21.1.4-2ubuntu1.7~22.04.8) ...\n",
            "Setting up libfontenc1:amd64 (1:1.1.4-1build3) ...\n",
            "Setting up xfonts-encodings (1:1.0.5-0ubuntu2) ...\n",
            "Setting up libxkbfile1:amd64 (1:1.1.0-1build3) ...\n",
            "Setting up libxfont2:amd64 (1:2.0.5-1build1) ...\n",
            "Setting up x11-xkb-utils (7.7+5build4) ...\n",
            "Setting up xfonts-utils (1:7.7+6build2) ...\n",
            "Setting up xfonts-base (1:1.0.5) ...\n",
            "Setting up xserver-common (2:21.1.4-2ubuntu1.7~22.04.8) ...\n",
            "Setting up xvfb (2:21.1.4-2ubuntu1.7~22.04.8) ...\n",
            "Processing triggers for man-db (2.10.2-1) ...\n",
            "Processing triggers for fontconfig (2.13.1-4.2ubuntu5) ...\n",
            "Processing triggers for libc-bin (2.35-0ubuntu3.4) ...\n",
            "/sbin/ldconfig.real: /usr/local/lib/libtbbbind_2_0.so.3 is not a symbolic link\n",
            "\n",
            "/sbin/ldconfig.real: /usr/local/lib/libtbbbind_2_5.so.3 is not a symbolic link\n",
            "\n",
            "/sbin/ldconfig.real: /usr/local/lib/libtbbmalloc.so.2 is not a symbolic link\n",
            "\n",
            "/sbin/ldconfig.real: /usr/local/lib/libtbbmalloc_proxy.so.2 is not a symbolic link\n",
            "\n",
            "/sbin/ldconfig.real: /usr/local/lib/libtbbbind.so.3 is not a symbolic link\n",
            "\n",
            "/sbin/ldconfig.real: /usr/local/lib/libtbb.so.12 is not a symbolic link\n",
            "\n"
          ]
        }
      ]
    },
    {
      "cell_type": "code",
      "source": [
        "# Installing the required packages\n",
        "!pip install pyvista"
      ],
      "metadata": {
        "id": "Cd1xSfK2dPLH",
        "colab": {
          "base_uri": "https://localhost:8080/"
        },
        "outputId": "e557f50d-9c7e-4a2e-9111-d6372552f1ed"
      },
      "execution_count": 2,
      "outputs": [
        {
          "output_type": "stream",
          "name": "stdout",
          "text": [
            "Collecting pyvista\n",
            "  Downloading pyvista-0.43.3-py3-none-any.whl (1.9 MB)\n",
            "\u001b[2K     \u001b[90m━━━━━━━━━━━━━━━━━━━━━━━━━━━━━━━━━━━━━━━━\u001b[0m \u001b[32m1.9/1.9 MB\u001b[0m \u001b[31m16.1 MB/s\u001b[0m eta \u001b[36m0:00:00\u001b[0m\n",
            "\u001b[?25hRequirement already satisfied: matplotlib>=3.0.1 in /usr/local/lib/python3.10/dist-packages (from pyvista) (3.7.1)\n",
            "Requirement already satisfied: numpy>=1.21.0 in /usr/local/lib/python3.10/dist-packages (from pyvista) (1.25.2)\n",
            "Requirement already satisfied: pillow in /usr/local/lib/python3.10/dist-packages (from pyvista) (9.4.0)\n",
            "Requirement already satisfied: pooch in /usr/local/lib/python3.10/dist-packages (from pyvista) (1.8.0)\n",
            "Requirement already satisfied: scooby>=0.5.1 in /usr/local/lib/python3.10/dist-packages (from pyvista) (0.9.2)\n",
            "Collecting vtk (from pyvista)\n",
            "  Downloading vtk-9.3.0-cp310-cp310-manylinux_2_17_x86_64.manylinux2014_x86_64.whl (92.0 MB)\n",
            "\u001b[2K     \u001b[90m━━━━━━━━━━━━━━━━━━━━━━━━━━━━━━━━━━━━━━━━\u001b[0m \u001b[32m92.0/92.0 MB\u001b[0m \u001b[31m8.0 MB/s\u001b[0m eta \u001b[36m0:00:00\u001b[0m\n",
            "\u001b[?25hRequirement already satisfied: contourpy>=1.0.1 in /usr/local/lib/python3.10/dist-packages (from matplotlib>=3.0.1->pyvista) (1.2.0)\n",
            "Requirement already satisfied: cycler>=0.10 in /usr/local/lib/python3.10/dist-packages (from matplotlib>=3.0.1->pyvista) (0.12.1)\n",
            "Requirement already satisfied: fonttools>=4.22.0 in /usr/local/lib/python3.10/dist-packages (from matplotlib>=3.0.1->pyvista) (4.49.0)\n",
            "Requirement already satisfied: kiwisolver>=1.0.1 in /usr/local/lib/python3.10/dist-packages (from matplotlib>=3.0.1->pyvista) (1.4.5)\n",
            "Requirement already satisfied: packaging>=20.0 in /usr/local/lib/python3.10/dist-packages (from matplotlib>=3.0.1->pyvista) (23.2)\n",
            "Requirement already satisfied: pyparsing>=2.3.1 in /usr/local/lib/python3.10/dist-packages (from matplotlib>=3.0.1->pyvista) (3.1.1)\n",
            "Requirement already satisfied: python-dateutil>=2.7 in /usr/local/lib/python3.10/dist-packages (from matplotlib>=3.0.1->pyvista) (2.8.2)\n",
            "Requirement already satisfied: platformdirs>=2.5.0 in /usr/local/lib/python3.10/dist-packages (from pooch->pyvista) (4.2.0)\n",
            "Requirement already satisfied: requests>=2.19.0 in /usr/local/lib/python3.10/dist-packages (from pooch->pyvista) (2.31.0)\n",
            "Requirement already satisfied: six>=1.5 in /usr/local/lib/python3.10/dist-packages (from python-dateutil>=2.7->matplotlib>=3.0.1->pyvista) (1.16.0)\n",
            "Requirement already satisfied: charset-normalizer<4,>=2 in /usr/local/lib/python3.10/dist-packages (from requests>=2.19.0->pooch->pyvista) (3.3.2)\n",
            "Requirement already satisfied: idna<4,>=2.5 in /usr/local/lib/python3.10/dist-packages (from requests>=2.19.0->pooch->pyvista) (3.6)\n",
            "Requirement already satisfied: urllib3<3,>=1.21.1 in /usr/local/lib/python3.10/dist-packages (from requests>=2.19.0->pooch->pyvista) (2.0.7)\n",
            "Requirement already satisfied: certifi>=2017.4.17 in /usr/local/lib/python3.10/dist-packages (from requests>=2.19.0->pooch->pyvista) (2024.2.2)\n",
            "Installing collected packages: vtk, pyvista\n",
            "Successfully installed pyvista-0.43.3 vtk-9.3.0\n"
          ]
        }
      ]
    },
    {
      "cell_type": "code",
      "source": [
        "# Creating the folders\n",
        "!mkdir obj_files"
      ],
      "metadata": {
        "id": "kBlS3ynqZxPw"
      },
      "execution_count": 3,
      "outputs": []
    },
    {
      "cell_type": "code",
      "execution_count": 4,
      "metadata": {
        "id": "cOpkKW7AZgBC",
        "colab": {
          "base_uri": "https://localhost:8080/"
        },
        "outputId": "d2df3e72-3cef-497d-8d16-108cfbf6d504"
      },
      "outputs": [
        {
          "output_type": "stream",
          "name": "stdout",
          "text": [
            "--2024-02-27 08:38:04--  https://terafac-assets.s3.ap-south-1.amazonaws.com/obj_files/cube.obj\n",
            "Resolving terafac-assets.s3.ap-south-1.amazonaws.com (terafac-assets.s3.ap-south-1.amazonaws.com)... 16.12.40.66, 52.219.160.30, 16.12.40.114, ...\n",
            "Connecting to terafac-assets.s3.ap-south-1.amazonaws.com (terafac-assets.s3.ap-south-1.amazonaws.com)|16.12.40.66|:443... connected.\n",
            "HTTP request sent, awaiting response... 200 OK\n",
            "Length: 24041 (23K) [application/x-tgif]\n",
            "Saving to: ‘obj_files/cube.obj’\n",
            "\n",
            "obj_files/cube.obj  100%[===================>]  23.48K   109KB/s    in 0.2s    \n",
            "\n",
            "2024-02-27 08:38:05 (109 KB/s) - ‘obj_files/cube.obj’ saved [24041/24041]\n",
            "\n",
            "--2024-02-27 08:38:05--  https://terafac-assets.s3.ap-south-1.amazonaws.com/obj_files/coupler.obj\n",
            "Resolving terafac-assets.s3.ap-south-1.amazonaws.com (terafac-assets.s3.ap-south-1.amazonaws.com)... 16.12.40.66, 52.219.160.30, 16.12.40.114, ...\n",
            "Connecting to terafac-assets.s3.ap-south-1.amazonaws.com (terafac-assets.s3.ap-south-1.amazonaws.com)|16.12.40.66|:443... connected.\n",
            "HTTP request sent, awaiting response... 200 OK\n",
            "Length: 331986 (324K) [application/x-tgif]\n",
            "Saving to: ‘obj_files/coupler.obj’\n",
            "\n",
            "obj_files/coupler.o 100%[===================>] 324.21K   376KB/s    in 0.9s    \n",
            "\n",
            "2024-02-27 08:38:07 (376 KB/s) - ‘obj_files/coupler.obj’ saved [331986/331986]\n",
            "\n",
            "--2024-02-27 08:38:07--  https://terafac-assets.s3.ap-south-1.amazonaws.com/obj_files/left_bracket.obj\n",
            "Resolving terafac-assets.s3.ap-south-1.amazonaws.com (terafac-assets.s3.ap-south-1.amazonaws.com)... 16.12.40.66, 52.219.160.30, 16.12.40.114, ...\n",
            "Connecting to terafac-assets.s3.ap-south-1.amazonaws.com (terafac-assets.s3.ap-south-1.amazonaws.com)|16.12.40.66|:443... connected.\n",
            "HTTP request sent, awaiting response... 200 OK\n",
            "Length: 55456 (54K) [application/x-tgif]\n",
            "Saving to: ‘obj_files/left_bracket.obj’\n",
            "\n",
            "obj_files/left_brac 100%[===================>]  54.16K   257KB/s    in 0.2s    \n",
            "\n",
            "2024-02-27 08:38:08 (257 KB/s) - ‘obj_files/left_bracket.obj’ saved [55456/55456]\n",
            "\n",
            "--2024-02-27 08:38:08--  https://terafac-assets.s3.ap-south-1.amazonaws.com/obj_files/storage_bar_mounting.obj\n",
            "Resolving terafac-assets.s3.ap-south-1.amazonaws.com (terafac-assets.s3.ap-south-1.amazonaws.com)... 16.12.40.66, 52.219.160.30, 16.12.40.114, ...\n",
            "Connecting to terafac-assets.s3.ap-south-1.amazonaws.com (terafac-assets.s3.ap-south-1.amazonaws.com)|16.12.40.66|:443... connected.\n",
            "HTTP request sent, awaiting response... 200 OK\n",
            "Length: 351655 (343K) [application/x-tgif]\n",
            "Saving to: ‘obj_files/storage_bar_window.obj’\n",
            "\n",
            "obj_files/storage_b 100%[===================>] 343.41K   399KB/s    in 0.9s    \n",
            "\n",
            "2024-02-27 08:38:10 (399 KB/s) - ‘obj_files/storage_bar_window.obj’ saved [351655/351655]\n",
            "\n",
            "--2024-02-27 08:38:10--  https://terafac-assets.s3.ap-south-1.amazonaws.com/obj_files/spacer.obj\n",
            "Resolving terafac-assets.s3.ap-south-1.amazonaws.com (terafac-assets.s3.ap-south-1.amazonaws.com)... 3.5.210.171, 3.5.209.114, 16.12.36.14, ...\n",
            "Connecting to terafac-assets.s3.ap-south-1.amazonaws.com (terafac-assets.s3.ap-south-1.amazonaws.com)|3.5.210.171|:443... connected.\n",
            "HTTP request sent, awaiting response... 200 OK\n",
            "Length: 114364 (112K) [application/x-tgif]\n",
            "Saving to: ‘obj_files/spacer.obj’\n",
            "\n",
            "obj_files/spacer.ob 100%[===================>] 111.68K   260KB/s    in 0.4s    \n",
            "\n",
            "2024-02-27 08:38:11 (260 KB/s) - ‘obj_files/spacer.obj’ saved [114364/114364]\n",
            "\n"
          ]
        }
      ],
      "source": [
        "# Loading the objects files that are used\n",
        "!wget -O obj_files/cube.obj https://terafac-assets.s3.ap-south-1.amazonaws.com/obj_files/cube.obj # .obj file (3d virtual object)\n",
        "!wget -O obj_files/coupler.obj https://terafac-assets.s3.ap-south-1.amazonaws.com/obj_files/coupler.obj\n",
        "!wget -O obj_files/left_bracket.obj https://terafac-assets.s3.ap-south-1.amazonaws.com/obj_files/left_bracket.obj\n",
        "!wget -O obj_files/storage_bar_window.obj https://terafac-assets.s3.ap-south-1.amazonaws.com/obj_files/storage_bar_mounting.obj\n",
        "!wget -O obj_files/spacer.obj https://terafac-assets.s3.ap-south-1.amazonaws.com/obj_files/spacer.obj\n",
        "\n",
        "\n",
        "# object files examples\n",
        "# https://terafac-assets.s3.ap-south-1.amazonaws.com/obj_files/coupler.obj\n",
        "# https://terafac-assets.s3.ap-south-1.amazonaws.com/obj_files/cube.obj\n",
        "# https://terafac-assets.s3.ap-south-1.amazonaws.com/obj_files/left_bracket.obj\n",
        "# https://terafac-assets.s3.ap-south-1.amazonaws.com/obj_files/spacer.obj\n",
        "# https://terafac-assets.s3.ap-south-1.amazonaws.com/obj_files/storage_bar_mounting.obj"
      ]
    },
    {
      "cell_type": "code",
      "source": [
        "# Importing required packages\n",
        "import pyvista as pv\n",
        "import os\n",
        "\n",
        "# It is important to load vvfb otherwise pv will give segment fault\n",
        "# Start Xvfb for pyvista\n",
        "pv.start_xvfb()"
      ],
      "metadata": {
        "id": "Qi8J_xd-Z7Nt"
      },
      "execution_count": 4,
      "outputs": []
    },
    {
      "cell_type": "code",
      "source": [
        "obj_file_path_cube = \"obj_files/cube.obj\"\n",
        "obj_file_path_coupler = \"obj_files/coupler.obj\"\n",
        "obj_file_path_left_bracket = \"obj_files/left_bracket.obj\"\n",
        "obj_file_path_spacer = \"obj_files/spacer.obj\"\n",
        "obj_file_path_storage_bar_window = \"obj_files/storage_bar_window.obj\"\n",
        "\n",
        "\n",
        "output_folder_cube = 'output_folder_cube'\n",
        "output_folder_coupler = 'output_folder_coupler'\n",
        "output_folder_left_bracket = 'output_folder_left_bracket'\n",
        "output_folder_spacer = 'output_folder_spacer'\n",
        "output_folder_storage_bar_window = 'output_folder_storage_bar_window'\n"
      ],
      "metadata": {
        "id": "nkHIBPOOaRic"
      },
      "execution_count": 3,
      "outputs": []
    },
    {
      "cell_type": "code",
      "source": [
        "def capture_screenshots(obj_file, result):\n",
        "    mesh = pv.read(obj_file)\n",
        "\n",
        "\n",
        "    # Making a dictionary for storing required planes parameters\n",
        "    camera_positions = {\n",
        "      # \"top\": (0, 0, 1),\n",
        "      # \"bottom\": (0, 0, -1),\n",
        "      # \"front\": (0, -1, 0),\n",
        "      # \"back\": (0, 1, 0),\n",
        "      # \"left\": (1, 0, 0),\n",
        "      # \"right\": (-1, 0, 0),\n",
        "      # \"five\" : (0 , 0,5) ,\n",
        "      # \"s\" : (1,1,1) ,\n",
        "      # coordinates in the form  (position ,  focal point   , view up)\n",
        "      # \"test_plane\" :[(1, 1, 1), (0, 0, 0), (0, 0, 1)]\n",
        "      \"front\": (0, 0, 1),\n",
        "      \"back\": (0, 0, -1),\n",
        "      \"left\": (-1, 0, 0),\n",
        "      \"right\": (1, 0, 0),\n",
        "      \"top\": (0, 1, 0),\n",
        "      \"bottom\": (0, -1, 0),\n",
        "      \"front-left\": (-1, 0, 1),\n",
        "      \"front-right\": (1, 0, 1),\n",
        "      \"back-left\": (-1, 0, -1),\n",
        "      \"back-right\": (1, 0, -1),\n",
        "      \"top-front\": (0, 1, 1),\n",
        "      \"top-back\": (0, 1, -1),\n",
        "      \"bottom-front\": (0, -1, 1),\n",
        "      \"bottom-back\": (0, -1, -1),\n",
        "      \"front-top-left\": (-1, 1, 1),\n",
        "      \"front-top-right\": (1, 1, 1),\n",
        "      \"front-bottom-left\": (-1, -1, 1),\n",
        "      \"front-bottom-right\": (1, -1, 1),\n",
        "      \"back-top-left\": (-1, 1, -1),\n",
        "      \"back-top-right\": (1, 1, -1),\n",
        "      \"image1\" : (100 , 100 ,100)\n",
        "\n",
        "    }\n",
        "\n",
        "#     camera_positions = {\n",
        "#     \"front_view\": ((0, 0, 2), (0, 0, 0), (0, 1, 0)),\n",
        "#     \"top_view\": ((0, 2, 0), (0, 0, 0), (0, 0, 1)),\n",
        "#     \"isometric_view\": ((2, 2, 2), (0, 0, 0), (0, 1, 0)),\n",
        "#     \"corner_view\": ((-2, -2, 2), (0, 0, 0), (0, 1, 0)),\n",
        "#     \"side_view\": ((2, 0, 0), (0, 0, 0), (0, 1, 0))\n",
        "# }\n",
        "\n",
        "    # Creating the output folder\n",
        "    os.makedirs(result, exist_ok=True)\n",
        "\n",
        "    # Capturing screenshots from different angles\n",
        "    for i , (plane , camera_position) in enumerate(camera_positions.items()):\n",
        "        # Creating a plotter window\n",
        "        plotter = pv.Plotter(off_screen=True)\n",
        "        plotter.add_mesh(mesh)\n",
        "        # Setting camera position\n",
        "        plotter.camera_position = camera_position\n",
        "        # Capturing screenshot\n",
        "        screenshot_path = os.path.join(result , f'screenshot_{plane}.png')\n",
        "        plotter.show(screenshot=screenshot_path, auto_close=False)\n",
        "        # Closing the plotter to release resources\n",
        "        plotter.close()"
      ],
      "metadata": {
        "id": "XTe2TE_IaBWC"
      },
      "execution_count": 7,
      "outputs": []
    },
    {
      "cell_type": "code",
      "source": [
        "# Calling the function\n",
        "capture_screenshots(obj_file_path_cube , output_folder_cube)\n",
        "# capture_screenshots(obj_file_path_spacer , output_folder_spacer)\n",
        "# capture_screenshots(obj_file_path_left_bracket , output_folder_left_bracket)\n",
        "# capture_screenshots(obj_file_path_coupler , output_folder_coupler)\n",
        "# capture_screenshots(obj_file_path_storage_bar_window , output_folder_storage_bar_window)"
      ],
      "metadata": {
        "id": "CfRIBsMFhCuM"
      },
      "execution_count": 8,
      "outputs": []
    },
    {
      "cell_type": "code",
      "source": [],
      "metadata": {
        "id": "KdVpAx5OsD8J"
      },
      "execution_count": null,
      "outputs": []
    }
  ]
}